{
  "cells": [
    {
      "cell_type": "code",
      "execution_count": 2,
      "metadata": {
        "colab": {
          "base_uri": "https://localhost:8080/"
        },
        "id": "WmuhmFpUgGB6",
        "outputId": "87cfb6ca-84c4-41cb-e4a0-4e2a9efe7b80"
      },
      "outputs": [
        {
          "name": "stdout",
          "output_type": "stream",
          "text": [
            "Requirement already satisfied: openai==0.28 in e:\\anaconda\\lib\\site-packages (0.28.0)\n",
            "Requirement already satisfied: tqdm in e:\\anaconda\\lib\\site-packages (from openai==0.28) (4.64.1)\n",
            "Requirement already satisfied: aiohttp in e:\\anaconda\\lib\\site-packages (from openai==0.28) (3.8.6)\n",
            "Requirement already satisfied: requests>=2.20 in e:\\anaconda\\lib\\site-packages (from openai==0.28) (2.28.1)\n",
            "Requirement already satisfied: charset-normalizer<3,>=2 in e:\\anaconda\\lib\\site-packages (from requests>=2.20->openai==0.28) (2.0.4)\n",
            "Requirement already satisfied: certifi>=2017.4.17 in e:\\anaconda\\lib\\site-packages (from requests>=2.20->openai==0.28) (2022.12.7)\n",
            "Requirement already satisfied: urllib3<1.27,>=1.21.1 in e:\\anaconda\\lib\\site-packages (from requests>=2.20->openai==0.28) (1.26.14)\n",
            "Requirement already satisfied: idna<4,>=2.5 in e:\\anaconda\\lib\\site-packages (from requests>=2.20->openai==0.28) (3.4)\n",
            "Requirement already satisfied: aiosignal>=1.1.2 in e:\\anaconda\\lib\\site-packages (from aiohttp->openai==0.28) (1.3.1)\n",
            "Requirement already satisfied: attrs>=17.3.0 in e:\\anaconda\\lib\\site-packages (from aiohttp->openai==0.28) (22.1.0)\n",
            "Requirement already satisfied: yarl<2.0,>=1.0 in e:\\anaconda\\lib\\site-packages (from aiohttp->openai==0.28) (1.9.2)\n",
            "Requirement already satisfied: multidict<7.0,>=4.5 in e:\\anaconda\\lib\\site-packages (from aiohttp->openai==0.28) (6.0.4)\n",
            "Requirement already satisfied: async-timeout<5.0,>=4.0.0a3 in e:\\anaconda\\lib\\site-packages (from aiohttp->openai==0.28) (4.0.3)\n",
            "Requirement already satisfied: frozenlist>=1.1.1 in e:\\anaconda\\lib\\site-packages (from aiohttp->openai==0.28) (1.4.0)\n",
            "Requirement already satisfied: colorama in e:\\anaconda\\lib\\site-packages (from tqdm->openai==0.28) (0.4.6)\n"
          ]
        }
      ],
      "source": [
        "!pip install openai==0.28"
      ]
    },
    {
      "cell_type": "code",
      "execution_count": 3,
      "metadata": {
        "id": "3lnOBGgEgJDd"
      },
      "outputs": [],
      "source": [
        "import openai\n",
        "import pandas as pd\n",
        "from sklearn.metrics import f1_score\n",
        "import os\n",
        "import sys\n",
        "import chardet\n",
        "import csv"
      ]
    },
    {
      "cell_type": "code",
      "execution_count": 4,
      "metadata": {
        "colab": {
          "base_uri": "https://localhost:8080/",
          "height": 36
        },
        "id": "cGxjQCibYBty",
        "outputId": "608fa2c8-5295-4564-f707-2fd9677ed3a6"
      },
      "outputs": [
        {
          "data": {
            "text/plain": [
              "'0.28.0'"
            ]
          },
          "execution_count": 4,
          "metadata": {},
          "output_type": "execute_result"
        }
      ],
      "source": [
        "openai.__version__"
      ]
    },
    {
      "cell_type": "code",
      "execution_count": 5,
      "metadata": {
        "id": "KJ5nB53tVSN1"
      },
      "outputs": [],
      "source": [
        "openai.api_key ='key'"
      ]
    },
    {
      "cell_type": "code",
      "execution_count": 6,
      "metadata": {
        "id": "_q0lc1sz7Sj9"
      },
      "outputs": [],
      "source": [
        "import re\n",
        "def remove_mention(text):\n",
        "  return re.sub(r'@\\w+', '', text)"
      ]
    },
    {
      "cell_type": "code",
      "execution_count": 7,
      "metadata": {},
      "outputs": [],
      "source": [
        "train = pd.read_csv('train.csv',encoding='ISO-8859-1',engine='python')\n",
        "test = pd.read_csv('test.csv',encoding='ISO-8859-1',engine='python')"
      ]
    },
    {
      "cell_type": "code",
      "execution_count": 8,
      "metadata": {},
      "outputs": [
        {
          "data": {
            "text/plain": [
              "(2914, 5)"
            ]
          },
          "execution_count": 8,
          "metadata": {},
          "output_type": "execute_result"
        }
      ],
      "source": [
        "train.shape"
      ]
    },
    {
      "cell_type": "code",
      "execution_count": 9,
      "metadata": {},
      "outputs": [
        {
          "data": {
            "text/plain": [
              "(1956, 5)"
            ]
          },
          "execution_count": 9,
          "metadata": {},
          "output_type": "execute_result"
        }
      ],
      "source": [
        "test.shape"
      ]
    },
    {
      "cell_type": "code",
      "execution_count": 10,
      "metadata": {},
      "outputs": [
        {
          "data": {
            "text/html": [
              "<div>\n",
              "<style scoped>\n",
              "    .dataframe tbody tr th:only-of-type {\n",
              "        vertical-align: middle;\n",
              "    }\n",
              "\n",
              "    .dataframe tbody tr th {\n",
              "        vertical-align: top;\n",
              "    }\n",
              "\n",
              "    .dataframe thead th {\n",
              "        text-align: right;\n",
              "    }\n",
              "</style>\n",
              "<table border=\"1\" class=\"dataframe\">\n",
              "  <thead>\n",
              "    <tr style=\"text-align: right;\">\n",
              "      <th></th>\n",
              "      <th>Tweet</th>\n",
              "      <th>Target</th>\n",
              "      <th>Stance</th>\n",
              "      <th>Opinion Towards</th>\n",
              "      <th>Sentiment</th>\n",
              "    </tr>\n",
              "  </thead>\n",
              "  <tbody>\n",
              "    <tr>\n",
              "      <th>0</th>\n",
              "      <td>@tedcruz And, #HandOverTheServer she wiped cle...</td>\n",
              "      <td>Hillary Clinton</td>\n",
              "      <td>AGAINST</td>\n",
              "      <td>1.  The tweet explicitly expresses opinion abo...</td>\n",
              "      <td>neg</td>\n",
              "    </tr>\n",
              "    <tr>\n",
              "      <th>1</th>\n",
              "      <td>Hillary is our best choice if we truly want to...</td>\n",
              "      <td>Hillary Clinton</td>\n",
              "      <td>FAVOR</td>\n",
              "      <td>1.  The tweet explicitly expresses opinion abo...</td>\n",
              "      <td>pos</td>\n",
              "    </tr>\n",
              "    <tr>\n",
              "      <th>2</th>\n",
              "      <td>@TheView I think our country is ready for a fe...</td>\n",
              "      <td>Hillary Clinton</td>\n",
              "      <td>AGAINST</td>\n",
              "      <td>1.  The tweet explicitly expresses opinion abo...</td>\n",
              "      <td>neg</td>\n",
              "    </tr>\n",
              "    <tr>\n",
              "      <th>3</th>\n",
              "      <td>I just gave an unhealthy amount of my hard-ear...</td>\n",
              "      <td>Hillary Clinton</td>\n",
              "      <td>AGAINST</td>\n",
              "      <td>1.  The tweet explicitly expresses opinion abo...</td>\n",
              "      <td>neg</td>\n",
              "    </tr>\n",
              "    <tr>\n",
              "      <th>4</th>\n",
              "      <td>@PortiaABoulger Thank you for adding me to you...</td>\n",
              "      <td>Hillary Clinton</td>\n",
              "      <td>NONE</td>\n",
              "      <td>3.  The tweet is not explicitly expressing opi...</td>\n",
              "      <td>pos</td>\n",
              "    </tr>\n",
              "  </tbody>\n",
              "</table>\n",
              "</div>"
            ],
            "text/plain": [
              "                                               Tweet           Target  \\\n",
              "0  @tedcruz And, #HandOverTheServer she wiped cle...  Hillary Clinton   \n",
              "1  Hillary is our best choice if we truly want to...  Hillary Clinton   \n",
              "2  @TheView I think our country is ready for a fe...  Hillary Clinton   \n",
              "3  I just gave an unhealthy amount of my hard-ear...  Hillary Clinton   \n",
              "4  @PortiaABoulger Thank you for adding me to you...  Hillary Clinton   \n",
              "\n",
              "    Stance                                    Opinion Towards Sentiment  \n",
              "0  AGAINST  1.  The tweet explicitly expresses opinion abo...       neg  \n",
              "1    FAVOR  1.  The tweet explicitly expresses opinion abo...       pos  \n",
              "2  AGAINST  1.  The tweet explicitly expresses opinion abo...       neg  \n",
              "3  AGAINST  1.  The tweet explicitly expresses opinion abo...       neg  \n",
              "4     NONE  3.  The tweet is not explicitly expressing opi...       pos  "
            ]
          },
          "execution_count": 10,
          "metadata": {},
          "output_type": "execute_result"
        }
      ],
      "source": [
        "train.head()"
      ]
    },
    {
      "cell_type": "code",
      "execution_count": 11,
      "metadata": {},
      "outputs": [],
      "source": [
        "train['Tweet']=train['Tweet'].apply(lambda x: re.sub(r'#SemST','',x).strip())\n",
        "test['Tweet']=test['Tweet'].apply(lambda x: re.sub(r'#SemST','',x).strip())"
      ]
    },
    {
      "cell_type": "code",
      "execution_count": 12,
      "metadata": {},
      "outputs": [
        {
          "data": {
            "text/plain": [
              "\"@TheView I think our country is ready for a female pres, it can't ever be Hillary\""
            ]
          },
          "execution_count": 12,
          "metadata": {},
          "output_type": "execute_result"
        }
      ],
      "source": [
        "train['Tweet'][2]"
      ]
    },
    {
      "cell_type": "code",
      "execution_count": 13,
      "metadata": {},
      "outputs": [
        {
          "data": {
            "text/html": [
              "<div>\n",
              "<style scoped>\n",
              "    .dataframe tbody tr th:only-of-type {\n",
              "        vertical-align: middle;\n",
              "    }\n",
              "\n",
              "    .dataframe tbody tr th {\n",
              "        vertical-align: top;\n",
              "    }\n",
              "\n",
              "    .dataframe thead th {\n",
              "        text-align: right;\n",
              "    }\n",
              "</style>\n",
              "<table border=\"1\" class=\"dataframe\">\n",
              "  <thead>\n",
              "    <tr style=\"text-align: right;\">\n",
              "      <th></th>\n",
              "      <th>Tweet</th>\n",
              "      <th>Target</th>\n",
              "      <th>Stance</th>\n",
              "      <th>Opinion Towards</th>\n",
              "      <th>Sentiment</th>\n",
              "    </tr>\n",
              "  </thead>\n",
              "  <tbody>\n",
              "    <tr>\n",
              "      <th>0</th>\n",
              "      <td>He who exalts himself shall      be humbled; a...</td>\n",
              "      <td>Atheism</td>\n",
              "      <td>AGAINST</td>\n",
              "      <td>1.  The tweet explicitly expresses opinion abo...</td>\n",
              "      <td>pos</td>\n",
              "    </tr>\n",
              "    <tr>\n",
              "      <th>1</th>\n",
              "      <td>RT @prayerbullets: I remove Nehushtan -previou...</td>\n",
              "      <td>Atheism</td>\n",
              "      <td>AGAINST</td>\n",
              "      <td>1.  The tweet explicitly expresses opinion abo...</td>\n",
              "      <td>other</td>\n",
              "    </tr>\n",
              "    <tr>\n",
              "      <th>2</th>\n",
              "      <td>@Brainman365 @heidtjj @BenjaminLives I have so...</td>\n",
              "      <td>Atheism</td>\n",
              "      <td>AGAINST</td>\n",
              "      <td>1.  The tweet explicitly expresses opinion abo...</td>\n",
              "      <td>pos</td>\n",
              "    </tr>\n",
              "    <tr>\n",
              "      <th>3</th>\n",
              "      <td>#God is utterly powerless without Human interv...</td>\n",
              "      <td>Atheism</td>\n",
              "      <td>AGAINST</td>\n",
              "      <td>1.  The tweet explicitly expresses opinion abo...</td>\n",
              "      <td>neg</td>\n",
              "    </tr>\n",
              "    <tr>\n",
              "      <th>4</th>\n",
              "      <td>@David_Cameron   Miracles of #Multiculturalism...</td>\n",
              "      <td>Atheism</td>\n",
              "      <td>AGAINST</td>\n",
              "      <td>2. The tweet does NOT expresses opinion about ...</td>\n",
              "      <td>neg</td>\n",
              "    </tr>\n",
              "  </tbody>\n",
              "</table>\n",
              "</div>"
            ],
            "text/plain": [
              "                                               Tweet   Target   Stance  \\\n",
              "0  He who exalts himself shall      be humbled; a...  Atheism  AGAINST   \n",
              "1  RT @prayerbullets: I remove Nehushtan -previou...  Atheism  AGAINST   \n",
              "2  @Brainman365 @heidtjj @BenjaminLives I have so...  Atheism  AGAINST   \n",
              "3  #God is utterly powerless without Human interv...  Atheism  AGAINST   \n",
              "4  @David_Cameron   Miracles of #Multiculturalism...  Atheism  AGAINST   \n",
              "\n",
              "                                     Opinion Towards Sentiment  \n",
              "0  1.  The tweet explicitly expresses opinion abo...       pos  \n",
              "1  1.  The tweet explicitly expresses opinion abo...     other  \n",
              "2  1.  The tweet explicitly expresses opinion abo...       pos  \n",
              "3  1.  The tweet explicitly expresses opinion abo...       neg  \n",
              "4  2. The tweet does NOT expresses opinion about ...       neg  "
            ]
          },
          "execution_count": 13,
          "metadata": {},
          "output_type": "execute_result"
        }
      ],
      "source": [
        "test.head()"
      ]
    },
    {
      "cell_type": "code",
      "execution_count": null,
      "metadata": {},
      "outputs": [],
      "source": []
    },
    {
      "cell_type": "markdown",
      "metadata": {},
      "source": [
        "## Zero shot"
      ]
    },
    {
      "cell_type": "code",
      "execution_count": 27,
      "metadata": {},
      "outputs": [],
      "source": [
        "def classify_stance_zero_shot(tweet, target):\n",
        "    # Define the prompt for stance detection\n",
        "    example1 = train[(train['Target']==target) & (train['Stance']=='FAVOR')].sample(1)\n",
        "    example2 = train[(train['Target']==target) & (train['Stance']=='AGAINST')].sample(1)\n",
        "    example3 = train[(train['Target']==target) & (train['Stance']=='NONE')].sample(1)\n",
        "    prompt = f\"Detect the stance for the tweet about '{target}', if the author of the given tweet supports '{target}', please label it as 'FAVOR'.\\\n",
        "    If the author of the given tweet is against '{target}', please label it as 'AGAINST'.\\\n",
        "    If the author of the given tweet has a neutral stance or no stance about {target}, please label it as 'NONE'.\\\n",
        "    \\nNow detect the stance of the author of this tweet using exactly one word from 'FAVOR','AGAINST','NONE': \\\n",
        "    \\ntweet: {tweet}. The author's stance towards {target} is:\"\n",
        "\n",
        "    # Make an API call to GPT-3.5 Turbo for stance detection\n",
        "    response = openai.Completion.create(\n",
        "        engine=\"text-davinci-003\", \n",
        "        prompt=prompt,\n",
        "        max_tokens=100,  \n",
        "        temperature=0.5,  \n",
        "        stop=None  \n",
        "    )\n",
        "\n",
        "    # Extract the generated stance label from the API response\n",
        "    generated_stance = response['choices'][0]['text'].strip()\n",
        "\n",
        "    return generated_stance"
      ]
    },
    {
      "cell_type": "code",
      "execution_count": 28,
      "metadata": {},
      "outputs": [],
      "source": [
        "test_taskA['predicted_stance_zero'] = test_taskA.apply(lambda row: classify_stance_zero_shot(row['Tweet'], row['Target']), axis=1)"
      ]
    },
    {
      "cell_type": "code",
      "execution_count": 29,
      "metadata": {},
      "outputs": [
        {
          "name": "stdout",
          "output_type": "stream",
          "text": [
            "F1 Score: [0.65266559 0.45064378 0.44608879]\n"
          ]
        }
      ],
      "source": [
        "f1 = f1_score(test_taskA['Stance'], test_taskA['predicted_stance_zero'], labels=['FAVOR','AGAINST','NONE'],average=None)\n",
        "\n",
        "# Print the F1 score\n",
        "print(f\"F1 Score: {f1}\")"
      ]
    },
    {
      "cell_type": "markdown",
      "metadata": {},
      "source": [
        "# Few shot"
      ]
    },
    {
      "cell_type": "code",
      "execution_count": 54,
      "metadata": {
        "id": "FeMzBkHm6bov"
      },
      "outputs": [],
      "source": [
        "def classify_stance(tweet, target):\n",
        "    # Define the prompt for stance detection\n",
        "    example1 = train[(train['Target']==target) & (train['Stance']=='FAVOR')].sample(1)\n",
        "    example2 = train[(train['Target']==target) & (train['Stance']=='AGAINST')].sample(1)\n",
        "    example3 = train[(train['Target']==target) & (train['Stance']=='NONE')].sample(1)\n",
        "    prompt = f\"Detect the stance for the tweet about '{target}', if the author of the given tweet supports '{target}', please label it as 'FAVOR'.\\\n",
        "    If the author of the given tweet is against '{target}', please label it as 'AGAINST'.\\\n",
        "    If the author of the given tweet has a neutral stance or no stance about {target}, please label it as 'NONE'.\\\n",
        "    Here are some examples: \\\n",
        "    \\n1. tweet: {example1['Tweet'].values[0]}. The author's stance towards {target} is: \\n{example1['Stance'].values[0]} \\\n",
        "    \\n2. tweet: {example2['Tweet'].values[0]}. The author's stance towards {target} is: \\n{example2['Stance'].values[0]} \\\n",
        "    \\n3. tweet: {example3['Tweet'].values[0]}. The author's stance towards {target} is: \\n{example3['Stance'].values[0]} \\\n",
        "    \\nNow consider the examples and detect the stance of the author of this tweet, please use excatly one word from 'FAVOR','AGAINST','NONE': \\\n",
        "    \\ntweet: {tweet}. The author's stance towards {target} is:\"\n",
        "\n",
        "    # Make an API call to GPT-3.5 Turbo for stance detection\n",
        "    response = openai.Completion.create(\n",
        "        engine=\"text-davinci-003\", \n",
        "        prompt=prompt,\n",
        "        max_tokens=100,  \n",
        "        temperature=0.5,  \n",
        "        stop=None  \n",
        "    )\n",
        "\n",
        "    # Extract the generated stance label from the API response\n",
        "    generated_stance = response['choices'][0]['text'].strip()\n",
        "\n",
        "    return generated_stance\n"
      ]
    },
    {
      "cell_type": "code",
      "execution_count": 56,
      "metadata": {
        "id": "h732okA76r8_"
      },
      "outputs": [],
      "source": [
        "test_taskA['predicted_stance'] = test_taskA.apply(lambda row: classify_stance(row['Tweet'], row['Target']), axis=1)"
      ]
    },
    {
      "cell_type": "code",
      "execution_count": 57,
      "metadata": {},
      "outputs": [
        {
          "data": {
            "text/html": [
              "<div>\n",
              "<style scoped>\n",
              "    .dataframe tbody tr th:only-of-type {\n",
              "        vertical-align: middle;\n",
              "    }\n",
              "\n",
              "    .dataframe tbody tr th {\n",
              "        vertical-align: top;\n",
              "    }\n",
              "\n",
              "    .dataframe thead th {\n",
              "        text-align: right;\n",
              "    }\n",
              "</style>\n",
              "<table border=\"1\" class=\"dataframe\">\n",
              "  <thead>\n",
              "    <tr style=\"text-align: right;\">\n",
              "      <th></th>\n",
              "      <th>Tweet</th>\n",
              "      <th>Target</th>\n",
              "      <th>Stance</th>\n",
              "      <th>Opinion Towards</th>\n",
              "      <th>Sentiment</th>\n",
              "      <th>predicted_stance</th>\n",
              "    </tr>\n",
              "  </thead>\n",
              "  <tbody>\n",
              "    <tr>\n",
              "      <th>0</th>\n",
              "      <td>He who exalts himself shall      be humbled; a...</td>\n",
              "      <td>Atheism</td>\n",
              "      <td>AGAINST</td>\n",
              "      <td>1.  The tweet explicitly expresses opinion abo...</td>\n",
              "      <td>pos</td>\n",
              "      <td>AGAINST</td>\n",
              "    </tr>\n",
              "    <tr>\n",
              "      <th>1</th>\n",
              "      <td>RT @prayerbullets: I remove Nehushtan -previou...</td>\n",
              "      <td>Atheism</td>\n",
              "      <td>AGAINST</td>\n",
              "      <td>1.  The tweet explicitly expresses opinion abo...</td>\n",
              "      <td>other</td>\n",
              "      <td>NONE</td>\n",
              "    </tr>\n",
              "    <tr>\n",
              "      <th>2</th>\n",
              "      <td>@Brainman365 @heidtjj @BenjaminLives I have so...</td>\n",
              "      <td>Atheism</td>\n",
              "      <td>AGAINST</td>\n",
              "      <td>1.  The tweet explicitly expresses opinion abo...</td>\n",
              "      <td>pos</td>\n",
              "      <td>NONE</td>\n",
              "    </tr>\n",
              "    <tr>\n",
              "      <th>3</th>\n",
              "      <td>#God is utterly powerless without Human interv...</td>\n",
              "      <td>Atheism</td>\n",
              "      <td>AGAINST</td>\n",
              "      <td>1.  The tweet explicitly expresses opinion abo...</td>\n",
              "      <td>neg</td>\n",
              "      <td>AGAINST</td>\n",
              "    </tr>\n",
              "    <tr>\n",
              "      <th>4</th>\n",
              "      <td>@David_Cameron   Miracles of #Multiculturalism...</td>\n",
              "      <td>Atheism</td>\n",
              "      <td>AGAINST</td>\n",
              "      <td>2. The tweet does NOT expresses opinion about ...</td>\n",
              "      <td>neg</td>\n",
              "      <td>NONE</td>\n",
              "    </tr>\n",
              "    <tr>\n",
              "      <th>...</th>\n",
              "      <td>...</td>\n",
              "      <td>...</td>\n",
              "      <td>...</td>\n",
              "      <td>...</td>\n",
              "      <td>...</td>\n",
              "      <td>...</td>\n",
              "    </tr>\n",
              "    <tr>\n",
              "      <th>1244</th>\n",
              "      <td>@MetalheadMonty @tom_six I followed him before...</td>\n",
              "      <td>Legalization of Abortion</td>\n",
              "      <td>NONE</td>\n",
              "      <td>2. The tweet does NOT expresses opinion about ...</td>\n",
              "      <td>neg</td>\n",
              "      <td>NONE</td>\n",
              "    </tr>\n",
              "    <tr>\n",
              "      <th>1245</th>\n",
              "      <td>For he who avenges blood remembers, he does no...</td>\n",
              "      <td>Legalization of Abortion</td>\n",
              "      <td>AGAINST</td>\n",
              "      <td>1.  The tweet explicitly expresses opinion abo...</td>\n",
              "      <td>other</td>\n",
              "      <td>NONE</td>\n",
              "    </tr>\n",
              "    <tr>\n",
              "      <th>1246</th>\n",
              "      <td>Life is sacred on all levels. Abortion does no...</td>\n",
              "      <td>Legalization of Abortion</td>\n",
              "      <td>AGAINST</td>\n",
              "      <td>1.  The tweet explicitly expresses opinion abo...</td>\n",
              "      <td>other</td>\n",
              "      <td>AGAINST</td>\n",
              "    </tr>\n",
              "    <tr>\n",
              "      <th>1247</th>\n",
              "      <td>@ravensymone U refer to \"WE\" which =\"YOU\" &amp; a ...</td>\n",
              "      <td>Legalization of Abortion</td>\n",
              "      <td>AGAINST</td>\n",
              "      <td>1.  The tweet explicitly expresses opinion abo...</td>\n",
              "      <td>neg</td>\n",
              "      <td>AGAINST</td>\n",
              "    </tr>\n",
              "    <tr>\n",
              "      <th>1248</th>\n",
              "      <td>Al Robertson's mom #DuckDynasty  chose life as...</td>\n",
              "      <td>Legalization of Abortion</td>\n",
              "      <td>AGAINST</td>\n",
              "      <td>1.  The tweet explicitly expresses opinion abo...</td>\n",
              "      <td>other</td>\n",
              "      <td>NONE</td>\n",
              "    </tr>\n",
              "  </tbody>\n",
              "</table>\n",
              "<p>1249 rows × 6 columns</p>\n",
              "</div>"
            ],
            "text/plain": [
              "                                                  Tweet  \\\n",
              "0     He who exalts himself shall      be humbled; a...   \n",
              "1     RT @prayerbullets: I remove Nehushtan -previou...   \n",
              "2     @Brainman365 @heidtjj @BenjaminLives I have so...   \n",
              "3     #God is utterly powerless without Human interv...   \n",
              "4     @David_Cameron   Miracles of #Multiculturalism...   \n",
              "...                                                 ...   \n",
              "1244  @MetalheadMonty @tom_six I followed him before...   \n",
              "1245  For he who avenges blood remembers, he does no...   \n",
              "1246  Life is sacred on all levels. Abortion does no...   \n",
              "1247  @ravensymone U refer to \"WE\" which =\"YOU\" & a ...   \n",
              "1248  Al Robertson's mom #DuckDynasty  chose life as...   \n",
              "\n",
              "                        Target   Stance  \\\n",
              "0                      Atheism  AGAINST   \n",
              "1                      Atheism  AGAINST   \n",
              "2                      Atheism  AGAINST   \n",
              "3                      Atheism  AGAINST   \n",
              "4                      Atheism  AGAINST   \n",
              "...                        ...      ...   \n",
              "1244  Legalization of Abortion     NONE   \n",
              "1245  Legalization of Abortion  AGAINST   \n",
              "1246  Legalization of Abortion  AGAINST   \n",
              "1247  Legalization of Abortion  AGAINST   \n",
              "1248  Legalization of Abortion  AGAINST   \n",
              "\n",
              "                                        Opinion Towards Sentiment  \\\n",
              "0     1.  The tweet explicitly expresses opinion abo...       pos   \n",
              "1     1.  The tweet explicitly expresses opinion abo...     other   \n",
              "2     1.  The tweet explicitly expresses opinion abo...       pos   \n",
              "3     1.  The tweet explicitly expresses opinion abo...       neg   \n",
              "4     2. The tweet does NOT expresses opinion about ...       neg   \n",
              "...                                                 ...       ...   \n",
              "1244  2. The tweet does NOT expresses opinion about ...       neg   \n",
              "1245  1.  The tweet explicitly expresses opinion abo...     other   \n",
              "1246  1.  The tweet explicitly expresses opinion abo...     other   \n",
              "1247  1.  The tweet explicitly expresses opinion abo...       neg   \n",
              "1248  1.  The tweet explicitly expresses opinion abo...     other   \n",
              "\n",
              "     predicted_stance  \n",
              "0             AGAINST  \n",
              "1                NONE  \n",
              "2                NONE  \n",
              "3             AGAINST  \n",
              "4                NONE  \n",
              "...               ...  \n",
              "1244             NONE  \n",
              "1245             NONE  \n",
              "1246          AGAINST  \n",
              "1247          AGAINST  \n",
              "1248             NONE  \n",
              "\n",
              "[1249 rows x 6 columns]"
            ]
          },
          "execution_count": 57,
          "metadata": {},
          "output_type": "execute_result"
        }
      ],
      "source": [
        "test_taskA"
      ]
    },
    {
      "cell_type": "code",
      "execution_count": 58,
      "metadata": {
        "colab": {
          "base_uri": "https://localhost:8080/",
          "height": 597
        },
        "id": "7TuNOxfcNKkY",
        "outputId": "6b2f3668-904b-4c91-89c3-8399acb01f38"
      },
      "outputs": [
        {
          "data": {
            "text/plain": [
              "NONE       585\n",
              "FAVOR      343\n",
              "AGAINST    321\n",
              "Name: predicted_stance, dtype: int64"
            ]
          },
          "execution_count": 58,
          "metadata": {},
          "output_type": "execute_result"
        }
      ],
      "source": [
        "test_taskA['predicted_stance'].value_counts()"
      ]
    },
    {
      "cell_type": "code",
      "execution_count": 59,
      "metadata": {},
      "outputs": [],
      "source": [
        "test_taskA.to_csv('gpttaskA.csv')"
      ]
    },
    {
      "cell_type": "code",
      "execution_count": 61,
      "metadata": {
        "colab": {
          "base_uri": "https://localhost:8080/"
        },
        "id": "ykZ_W66sNNxN",
        "outputId": "6376642d-2e9c-470d-c9cc-3d26fa2ae819"
      },
      "outputs": [
        {
          "name": "stdout",
          "output_type": "stream",
          "text": [
            "F1 Score: [0.72642968 0.59266409 0.53742331]\n"
          ]
        }
      ],
      "source": [
        "f1 = f1_score(test_taskA['Stance'], test_taskA['predicted_stance'], labels=['FAVOR','AGAINST','NONE'],average=None)\n",
        "\n",
        "# Print the F1 score\n",
        "print(f\"F1 Score: {f1}\")"
      ]
    },
    {
      "cell_type": "code",
      "execution_count": 80,
      "metadata": {
        "id": "FUegWUSiOOVT"
      },
      "outputs": [],
      "source": [
        "Hillary=test_taskA[test_taskA['Target']=='Hillary Clinton']\n",
        "Feminist=test_taskA[test_taskA['Target']=='Feminist Movement']\n",
        "Abortion=test_taskA[test_taskA['Target']=='Legalization of Abortion']\n",
        "Atheism=test_taskA[test_taskA['Target']=='Atheism']\n",
        "Climate=test_taskA[test_taskA['Target']=='Climate Change is a Real Concern']"
      ]
    },
    {
      "cell_type": "code",
      "execution_count": 91,
      "metadata": {},
      "outputs": [
        {
          "data": {
            "text/html": [
              "<div>\n",
              "<style scoped>\n",
              "    .dataframe tbody tr th:only-of-type {\n",
              "        vertical-align: middle;\n",
              "    }\n",
              "\n",
              "    .dataframe tbody tr th {\n",
              "        vertical-align: top;\n",
              "    }\n",
              "\n",
              "    .dataframe thead th {\n",
              "        text-align: right;\n",
              "    }\n",
              "</style>\n",
              "<table border=\"1\" class=\"dataframe\">\n",
              "  <thead>\n",
              "    <tr style=\"text-align: right;\">\n",
              "      <th></th>\n",
              "      <th>Tweet</th>\n",
              "      <th>Target</th>\n",
              "      <th>Stance</th>\n",
              "      <th>Opinion Towards</th>\n",
              "      <th>Sentiment</th>\n",
              "      <th>predicted_stance</th>\n",
              "    </tr>\n",
              "  </thead>\n",
              "  <tbody>\n",
              "    <tr>\n",
              "      <th>220</th>\n",
              "      <td>Closed door session begins. More after they de...</td>\n",
              "      <td>Climate Change is a Real Concern</td>\n",
              "      <td>NONE</td>\n",
              "      <td>3.  The tweet is not explicitly expressing opi...</td>\n",
              "      <td>other</td>\n",
              "      <td>NONE</td>\n",
              "    </tr>\n",
              "    <tr>\n",
              "      <th>221</th>\n",
              "      <td>What is the #energiewende agenda? Why are they...</td>\n",
              "      <td>Climate Change is a Real Concern</td>\n",
              "      <td>FAVOR</td>\n",
              "      <td>1.  The tweet explicitly expresses opinion abo...</td>\n",
              "      <td>neg</td>\n",
              "      <td>NONE</td>\n",
              "    </tr>\n",
              "    <tr>\n",
              "      <th>222</th>\n",
              "      <td>@climasphere Stocker: Fish catch potential cou...</td>\n",
              "      <td>Climate Change is a Real Concern</td>\n",
              "      <td>FAVOR</td>\n",
              "      <td>1.  The tweet explicitly expresses opinion abo...</td>\n",
              "      <td>neg</td>\n",
              "      <td>FAVOR</td>\n",
              "    </tr>\n",
              "    <tr>\n",
              "      <th>223</th>\n",
              "      <td>...a longer memory, and a sterner sense of jus...</td>\n",
              "      <td>Climate Change is a Real Concern</td>\n",
              "      <td>NONE</td>\n",
              "      <td>2. The tweet does NOT expresses opinion about ...</td>\n",
              "      <td>other</td>\n",
              "      <td>NONE</td>\n",
              "    </tr>\n",
              "    <tr>\n",
              "      <th>224</th>\n",
              "      <td>Boni \"Future Sea level rise will not be unifor...</td>\n",
              "      <td>Climate Change is a Real Concern</td>\n",
              "      <td>FAVOR</td>\n",
              "      <td>1.  The tweet explicitly expresses opinion abo...</td>\n",
              "      <td>other</td>\n",
              "      <td>FAVOR</td>\n",
              "    </tr>\n",
              "    <tr>\n",
              "      <th>...</th>\n",
              "      <td>...</td>\n",
              "      <td>...</td>\n",
              "      <td>...</td>\n",
              "      <td>...</td>\n",
              "      <td>...</td>\n",
              "      <td>...</td>\n",
              "    </tr>\n",
              "    <tr>\n",
              "      <th>384</th>\n",
              "      <td>@LiberalAus - \"All\" you folks #owe me an #offi...</td>\n",
              "      <td>Climate Change is a Real Concern</td>\n",
              "      <td>NONE</td>\n",
              "      <td>3.  The tweet is not explicitly expressing opi...</td>\n",
              "      <td>neg</td>\n",
              "      <td>NONE</td>\n",
              "    </tr>\n",
              "    <tr>\n",
              "      <th>385</th>\n",
              "      <td>Maybe we should start \"labelling every #produc...</td>\n",
              "      <td>Climate Change is a Real Concern</td>\n",
              "      <td>FAVOR</td>\n",
              "      <td>1.  The tweet explicitly expresses opinion abo...</td>\n",
              "      <td>pos</td>\n",
              "      <td>FAVOR</td>\n",
              "    </tr>\n",
              "    <tr>\n",
              "      <th>386</th>\n",
              "      <td>If we touch #Antarctica for one more #reason o...</td>\n",
              "      <td>Climate Change is a Real Concern</td>\n",
              "      <td>FAVOR</td>\n",
              "      <td>1.  The tweet explicitly expresses opinion abo...</td>\n",
              "      <td>neg</td>\n",
              "      <td>NONE</td>\n",
              "    </tr>\n",
              "    <tr>\n",
              "      <th>387</th>\n",
              "      <td>Wind power helped stabilize Texas' power grid ...</td>\n",
              "      <td>Climate Change is a Real Concern</td>\n",
              "      <td>FAVOR</td>\n",
              "      <td>1.  The tweet explicitly expresses opinion abo...</td>\n",
              "      <td>pos</td>\n",
              "      <td>FAVOR</td>\n",
              "    </tr>\n",
              "    <tr>\n",
              "      <th>388</th>\n",
              "      <td>It's so cold and windy here in Sydney, I just ...</td>\n",
              "      <td>Climate Change is a Real Concern</td>\n",
              "      <td>FAVOR</td>\n",
              "      <td>1.  The tweet explicitly expresses opinion abo...</td>\n",
              "      <td>other</td>\n",
              "      <td>NONE</td>\n",
              "    </tr>\n",
              "  </tbody>\n",
              "</table>\n",
              "<p>169 rows × 6 columns</p>\n",
              "</div>"
            ],
            "text/plain": [
              "                                                 Tweet  \\\n",
              "220  Closed door session begins. More after they de...   \n",
              "221  What is the #energiewende agenda? Why are they...   \n",
              "222  @climasphere Stocker: Fish catch potential cou...   \n",
              "223  ...a longer memory, and a sterner sense of jus...   \n",
              "224  Boni \"Future Sea level rise will not be unifor...   \n",
              "..                                                 ...   \n",
              "384  @LiberalAus - \"All\" you folks #owe me an #offi...   \n",
              "385  Maybe we should start \"labelling every #produc...   \n",
              "386  If we touch #Antarctica for one more #reason o...   \n",
              "387  Wind power helped stabilize Texas' power grid ...   \n",
              "388  It's so cold and windy here in Sydney, I just ...   \n",
              "\n",
              "                               Target Stance  \\\n",
              "220  Climate Change is a Real Concern   NONE   \n",
              "221  Climate Change is a Real Concern  FAVOR   \n",
              "222  Climate Change is a Real Concern  FAVOR   \n",
              "223  Climate Change is a Real Concern   NONE   \n",
              "224  Climate Change is a Real Concern  FAVOR   \n",
              "..                                ...    ...   \n",
              "384  Climate Change is a Real Concern   NONE   \n",
              "385  Climate Change is a Real Concern  FAVOR   \n",
              "386  Climate Change is a Real Concern  FAVOR   \n",
              "387  Climate Change is a Real Concern  FAVOR   \n",
              "388  Climate Change is a Real Concern  FAVOR   \n",
              "\n",
              "                                       Opinion Towards Sentiment  \\\n",
              "220  3.  The tweet is not explicitly expressing opi...     other   \n",
              "221  1.  The tweet explicitly expresses opinion abo...       neg   \n",
              "222  1.  The tweet explicitly expresses opinion abo...       neg   \n",
              "223  2. The tweet does NOT expresses opinion about ...     other   \n",
              "224  1.  The tweet explicitly expresses opinion abo...     other   \n",
              "..                                                 ...       ...   \n",
              "384  3.  The tweet is not explicitly expressing opi...       neg   \n",
              "385  1.  The tweet explicitly expresses opinion abo...       pos   \n",
              "386  1.  The tweet explicitly expresses opinion abo...       neg   \n",
              "387  1.  The tweet explicitly expresses opinion abo...       pos   \n",
              "388  1.  The tweet explicitly expresses opinion abo...     other   \n",
              "\n",
              "    predicted_stance  \n",
              "220             NONE  \n",
              "221             NONE  \n",
              "222            FAVOR  \n",
              "223             NONE  \n",
              "224            FAVOR  \n",
              "..               ...  \n",
              "384             NONE  \n",
              "385            FAVOR  \n",
              "386             NONE  \n",
              "387            FAVOR  \n",
              "388             NONE  \n",
              "\n",
              "[169 rows x 6 columns]"
            ]
          },
          "execution_count": 91,
          "metadata": {},
          "output_type": "execute_result"
        }
      ],
      "source": [
        "Climate"
      ]
    },
    {
      "cell_type": "code",
      "execution_count": 42,
      "metadata": {},
      "outputs": [],
      "source": [
        "def get_f1(df):\n",
        "    f1 = f1_score(df['Stance'], df['predicted_stance'], labels=['FAVOR','AGAINST','NONE'],average=None).reshape(1,-1)\n",
        "    f1_df=pd.DataFrame(f1,columns=['FAVOR','AGAINST','NONE'])\n",
        "    f1_df['AVG']=(f1_df['FAVOR'][0]+f1_df['AGAINST'][0])/2\n",
        "    print(f1_df)\n",
        "    return f1_df"
      ]
    },
    {
      "cell_type": "code",
      "execution_count": 81,
      "metadata": {},
      "outputs": [
        {
          "name": "stdout",
          "output_type": "stream",
          "text": [
            "      FAVOR   AGAINST      NONE       AVG\n",
            "0  0.815534  0.723247  0.722222  0.769391\n"
          ]
        },
        {
          "data": {
            "text/html": [
              "<div>\n",
              "<style scoped>\n",
              "    .dataframe tbody tr th:only-of-type {\n",
              "        vertical-align: middle;\n",
              "    }\n",
              "\n",
              "    .dataframe tbody tr th {\n",
              "        vertical-align: top;\n",
              "    }\n",
              "\n",
              "    .dataframe thead th {\n",
              "        text-align: right;\n",
              "    }\n",
              "</style>\n",
              "<table border=\"1\" class=\"dataframe\">\n",
              "  <thead>\n",
              "    <tr style=\"text-align: right;\">\n",
              "      <th></th>\n",
              "      <th>FAVOR</th>\n",
              "      <th>AGAINST</th>\n",
              "      <th>NONE</th>\n",
              "      <th>AVG</th>\n",
              "    </tr>\n",
              "  </thead>\n",
              "  <tbody>\n",
              "    <tr>\n",
              "      <th>0</th>\n",
              "      <td>0.815534</td>\n",
              "      <td>0.723247</td>\n",
              "      <td>0.722222</td>\n",
              "      <td>0.769391</td>\n",
              "    </tr>\n",
              "  </tbody>\n",
              "</table>\n",
              "</div>"
            ],
            "text/plain": [
              "      FAVOR   AGAINST      NONE       AVG\n",
              "0  0.815534  0.723247  0.722222  0.769391"
            ]
          },
          "execution_count": 81,
          "metadata": {},
          "output_type": "execute_result"
        }
      ],
      "source": [
        "get_f1(Hillary)"
      ]
    },
    {
      "cell_type": "code",
      "execution_count": 82,
      "metadata": {},
      "outputs": [
        {
          "name": "stdout",
          "output_type": "stream",
          "text": [
            "      FAVOR   AGAINST      NONE       AVG\n",
            "0  0.657343  0.554688  0.467836  0.606015\n"
          ]
        },
        {
          "data": {
            "text/html": [
              "<div>\n",
              "<style scoped>\n",
              "    .dataframe tbody tr th:only-of-type {\n",
              "        vertical-align: middle;\n",
              "    }\n",
              "\n",
              "    .dataframe tbody tr th {\n",
              "        vertical-align: top;\n",
              "    }\n",
              "\n",
              "    .dataframe thead th {\n",
              "        text-align: right;\n",
              "    }\n",
              "</style>\n",
              "<table border=\"1\" class=\"dataframe\">\n",
              "  <thead>\n",
              "    <tr style=\"text-align: right;\">\n",
              "      <th></th>\n",
              "      <th>FAVOR</th>\n",
              "      <th>AGAINST</th>\n",
              "      <th>NONE</th>\n",
              "      <th>AVG</th>\n",
              "    </tr>\n",
              "  </thead>\n",
              "  <tbody>\n",
              "    <tr>\n",
              "      <th>0</th>\n",
              "      <td>0.657343</td>\n",
              "      <td>0.554688</td>\n",
              "      <td>0.467836</td>\n",
              "      <td>0.606015</td>\n",
              "    </tr>\n",
              "  </tbody>\n",
              "</table>\n",
              "</div>"
            ],
            "text/plain": [
              "      FAVOR   AGAINST      NONE       AVG\n",
              "0  0.657343  0.554688  0.467836  0.606015"
            ]
          },
          "execution_count": 82,
          "metadata": {},
          "output_type": "execute_result"
        }
      ],
      "source": [
        "get_f1(Feminist)"
      ]
    },
    {
      "cell_type": "code",
      "execution_count": 83,
      "metadata": {},
      "outputs": [
        {
          "name": "stdout",
          "output_type": "stream",
          "text": [
            "      FAVOR   AGAINST      NONE       AVG\n",
            "0  0.645161  0.565056  0.491018  0.605109\n"
          ]
        },
        {
          "data": {
            "text/html": [
              "<div>\n",
              "<style scoped>\n",
              "    .dataframe tbody tr th:only-of-type {\n",
              "        vertical-align: middle;\n",
              "    }\n",
              "\n",
              "    .dataframe tbody tr th {\n",
              "        vertical-align: top;\n",
              "    }\n",
              "\n",
              "    .dataframe thead th {\n",
              "        text-align: right;\n",
              "    }\n",
              "</style>\n",
              "<table border=\"1\" class=\"dataframe\">\n",
              "  <thead>\n",
              "    <tr style=\"text-align: right;\">\n",
              "      <th></th>\n",
              "      <th>FAVOR</th>\n",
              "      <th>AGAINST</th>\n",
              "      <th>NONE</th>\n",
              "      <th>AVG</th>\n",
              "    </tr>\n",
              "  </thead>\n",
              "  <tbody>\n",
              "    <tr>\n",
              "      <th>0</th>\n",
              "      <td>0.645161</td>\n",
              "      <td>0.565056</td>\n",
              "      <td>0.491018</td>\n",
              "      <td>0.605109</td>\n",
              "    </tr>\n",
              "  </tbody>\n",
              "</table>\n",
              "</div>"
            ],
            "text/plain": [
              "      FAVOR   AGAINST      NONE       AVG\n",
              "0  0.645161  0.565056  0.491018  0.605109"
            ]
          },
          "execution_count": 83,
          "metadata": {},
          "output_type": "execute_result"
        }
      ],
      "source": [
        "get_f1(Abortion)"
      ]
    },
    {
      "cell_type": "code",
      "execution_count": 84,
      "metadata": {},
      "outputs": [
        {
          "name": "stdout",
          "output_type": "stream",
          "text": [
            "   FAVOR  AGAINST      NONE  AVG\n",
            "0    0.8      0.6  0.592593  0.7\n"
          ]
        },
        {
          "data": {
            "text/html": [
              "<div>\n",
              "<style scoped>\n",
              "    .dataframe tbody tr th:only-of-type {\n",
              "        vertical-align: middle;\n",
              "    }\n",
              "\n",
              "    .dataframe tbody tr th {\n",
              "        vertical-align: top;\n",
              "    }\n",
              "\n",
              "    .dataframe thead th {\n",
              "        text-align: right;\n",
              "    }\n",
              "</style>\n",
              "<table border=\"1\" class=\"dataframe\">\n",
              "  <thead>\n",
              "    <tr style=\"text-align: right;\">\n",
              "      <th></th>\n",
              "      <th>FAVOR</th>\n",
              "      <th>AGAINST</th>\n",
              "      <th>NONE</th>\n",
              "      <th>AVG</th>\n",
              "    </tr>\n",
              "  </thead>\n",
              "  <tbody>\n",
              "    <tr>\n",
              "      <th>0</th>\n",
              "      <td>0.8</td>\n",
              "      <td>0.6</td>\n",
              "      <td>0.592593</td>\n",
              "      <td>0.7</td>\n",
              "    </tr>\n",
              "  </tbody>\n",
              "</table>\n",
              "</div>"
            ],
            "text/plain": [
              "   FAVOR  AGAINST      NONE  AVG\n",
              "0    0.8      0.6  0.592593  0.7"
            ]
          },
          "execution_count": 84,
          "metadata": {},
          "output_type": "execute_result"
        }
      ],
      "source": [
        "get_f1(Climate)"
      ]
    },
    {
      "cell_type": "code",
      "execution_count": 86,
      "metadata": {},
      "outputs": [
        {
          "name": "stdout",
          "output_type": "stream",
          "text": [
            "      FAVOR   AGAINST      NONE       AVG\n",
            "0  0.656716  0.509091  0.366013  0.582904\n"
          ]
        },
        {
          "data": {
            "text/html": [
              "<div>\n",
              "<style scoped>\n",
              "    .dataframe tbody tr th:only-of-type {\n",
              "        vertical-align: middle;\n",
              "    }\n",
              "\n",
              "    .dataframe tbody tr th {\n",
              "        vertical-align: top;\n",
              "    }\n",
              "\n",
              "    .dataframe thead th {\n",
              "        text-align: right;\n",
              "    }\n",
              "</style>\n",
              "<table border=\"1\" class=\"dataframe\">\n",
              "  <thead>\n",
              "    <tr style=\"text-align: right;\">\n",
              "      <th></th>\n",
              "      <th>FAVOR</th>\n",
              "      <th>AGAINST</th>\n",
              "      <th>NONE</th>\n",
              "      <th>AVG</th>\n",
              "    </tr>\n",
              "  </thead>\n",
              "  <tbody>\n",
              "    <tr>\n",
              "      <th>0</th>\n",
              "      <td>0.656716</td>\n",
              "      <td>0.509091</td>\n",
              "      <td>0.366013</td>\n",
              "      <td>0.582904</td>\n",
              "    </tr>\n",
              "  </tbody>\n",
              "</table>\n",
              "</div>"
            ],
            "text/plain": [
              "      FAVOR   AGAINST      NONE       AVG\n",
              "0  0.656716  0.509091  0.366013  0.582904"
            ]
          },
          "execution_count": 86,
          "metadata": {},
          "output_type": "execute_result"
        }
      ],
      "source": [
        "get_f1(Atheism)"
      ]
    },
    {
      "cell_type": "code",
      "execution_count": 85,
      "metadata": {},
      "outputs": [
        {
          "name": "stdout",
          "output_type": "stream",
          "text": [
            "     FAVOR   AGAINST      NONE       AVG\n",
            "0  0.72643  0.592664  0.537423  0.659547\n"
          ]
        },
        {
          "data": {
            "text/html": [
              "<div>\n",
              "<style scoped>\n",
              "    .dataframe tbody tr th:only-of-type {\n",
              "        vertical-align: middle;\n",
              "    }\n",
              "\n",
              "    .dataframe tbody tr th {\n",
              "        vertical-align: top;\n",
              "    }\n",
              "\n",
              "    .dataframe thead th {\n",
              "        text-align: right;\n",
              "    }\n",
              "</style>\n",
              "<table border=\"1\" class=\"dataframe\">\n",
              "  <thead>\n",
              "    <tr style=\"text-align: right;\">\n",
              "      <th></th>\n",
              "      <th>FAVOR</th>\n",
              "      <th>AGAINST</th>\n",
              "      <th>NONE</th>\n",
              "      <th>AVG</th>\n",
              "    </tr>\n",
              "  </thead>\n",
              "  <tbody>\n",
              "    <tr>\n",
              "      <th>0</th>\n",
              "      <td>0.72643</td>\n",
              "      <td>0.592664</td>\n",
              "      <td>0.537423</td>\n",
              "      <td>0.659547</td>\n",
              "    </tr>\n",
              "  </tbody>\n",
              "</table>\n",
              "</div>"
            ],
            "text/plain": [
              "     FAVOR   AGAINST      NONE       AVG\n",
              "0  0.72643  0.592664  0.537423  0.659547"
            ]
          },
          "execution_count": 85,
          "metadata": {},
          "output_type": "execute_result"
        }
      ],
      "source": [
        "get_f1(test_taskA)"
      ]
    },
    {
      "cell_type": "code",
      "execution_count": 87,
      "metadata": {},
      "outputs": [],
      "source": [
        "test_taskA['opinion_key']=test_taskA['Opinion Towards'].apply(lambda x: x[0])"
      ]
    },
    {
      "cell_type": "code",
      "execution_count": 89,
      "metadata": {},
      "outputs": [],
      "source": [
        "test_taskA.to_csv('gpttaskA.csv')"
      ]
    },
    {
      "cell_type": "code",
      "execution_count": 88,
      "metadata": {},
      "outputs": [
        {
          "name": "stdout",
          "output_type": "stream",
          "text": [
            "           Favor   Against  None   Average\n",
            "Opinion  0.64268  0.752108   0.0  0.697394\n",
            "               Favor  Against      None  Average\n",
            "not_opinion  0.41629  0.45283  0.746939  0.43456\n"
          ]
        }
      ],
      "source": [
        "opinion_target=test_taskA[test_taskA['opinion_key']=='1'].reset_index(drop=True)\n",
        "not_opinion_target=test_taskA[test_taskA['opinion_key']=='2'].reset_index(drop=True)\n",
        "f1_opinion=f1_score(opinion_target['predicted_stance'],opinion_target['Stance'],average=None).reshape(1,-1)\n",
        "f1_opinion_df = pd.DataFrame(f1_opinion,columns=['Favor','Against','None'],index=['Opinion'])\n",
        "f1_opinion_df['Average']=(f1_opinion_df['Favor']+f1_opinion_df['Against'])/2\n",
        "f1_not_opinion=f1_score(not_opinion_target['predicted_stance'],not_opinion_target['Stance'],average=None).reshape(1,-1)\n",
        "f1_not_opinion_df = pd.DataFrame(f1_not_opinion,columns=['Favor','Against','None'],index=['not_opinion'])\n",
        "f1_not_opinion_df['Average']=(f1_not_opinion_df['Favor']+f1_not_opinion_df['Against'])/2\n",
        "print(f1_opinion_df)\n",
        "print(f1_not_opinion_df)"
      ]
    },
    {
      "cell_type": "markdown",
      "metadata": {},
      "source": [
        "## TaskB"
      ]
    },
    {
      "cell_type": "code",
      "execution_count": 30,
      "metadata": {
        "id": "Tr3oBlFzSkhQ"
      },
      "outputs": [],
      "source": [
        "def classify_stance_zero_shot(tweet, target):\n",
        "    # Define the prompt for stance detection\n",
        "    prompt = f\"Detect the stance for the tweet about '{target}', if the author of the given tweet supports '{target}', please label it as 'FAVOR'.\\\n",
        "    If the author of the given tweet is against '{target}', please label it as 'AGAINST'.\\\n",
        "    If the author of the given tweet has a neutral stance or no stance about {target}, please label it as 'NONE'.\\\n",
        "    \\nNow detect the stance of the author of this tweet using excatly one word from 'FAVOR','AGAINST','NONE': \\\n",
        "    \\ntweet: {tweet}. The author's stance towards {target} is:\"\n",
        "\n",
        "    # Make an API call to GPT-3.5 Turbo for stance detection\n",
        "    response = openai.Completion.create(\n",
        "        engine=\"text-davinci-003\",  # Use text-davinci-003 for GPT-3.5 Turbo\n",
        "        prompt=prompt,\n",
        "        max_tokens=100,  # Adjust max_tokens based on your desired output length\n",
        "        temperature=0.5,  # Adjust temperature for creativity vs. determinism\n",
        "        stop=None  # Add custom stop words if needed\n",
        "    )\n",
        "\n",
        "    # Extract the generated stance label from the API response\n",
        "    generated_stance = response['choices'][0]['text'].strip()\n",
        "\n",
        "    return generated_stance\n",
        "\n",
        "# Apply the classify_stance function to each row in the dataframe\n",
        "#test['predicted_stance'] = test.apply(lambda row: classify_stance(row['tweet'], row['target']), axis=1)\n",
        "\n",
        "# Convert stance labels to lowercase for consistency\n",
        "#df['predicted_stance'] = df['predicted_stance'].str.lower()"
      ]
    },
    {
      "cell_type": "code",
      "execution_count": 31,
      "metadata": {},
      "outputs": [],
      "source": [
        "test_taskB = test[test['Target']=='Donald Trump'].reset_index(drop=True)"
      ]
    },
    {
      "cell_type": "code",
      "execution_count": 32,
      "metadata": {},
      "outputs": [
        {
          "data": {
            "text/html": [
              "<div>\n",
              "<style scoped>\n",
              "    .dataframe tbody tr th:only-of-type {\n",
              "        vertical-align: middle;\n",
              "    }\n",
              "\n",
              "    .dataframe tbody tr th {\n",
              "        vertical-align: top;\n",
              "    }\n",
              "\n",
              "    .dataframe thead th {\n",
              "        text-align: right;\n",
              "    }\n",
              "</style>\n",
              "<table border=\"1\" class=\"dataframe\">\n",
              "  <thead>\n",
              "    <tr style=\"text-align: right;\">\n",
              "      <th></th>\n",
              "      <th>Tweet</th>\n",
              "      <th>Target</th>\n",
              "      <th>Stance</th>\n",
              "      <th>Opinion Towards</th>\n",
              "      <th>Sentiment</th>\n",
              "    </tr>\n",
              "  </thead>\n",
              "  <tbody>\n",
              "    <tr>\n",
              "      <th>0</th>\n",
              "      <td>@2014voteblue @ChrisJZullo blindly supporting ...</td>\n",
              "      <td>Donald Trump</td>\n",
              "      <td>NONE</td>\n",
              "      <td>2. The tweet does NOT expresses opinion about ...</td>\n",
              "      <td>neg</td>\n",
              "    </tr>\n",
              "    <tr>\n",
              "      <th>1</th>\n",
              "      <td>@ThePimpernelX @Cameron_Gray @CalebHowe  Total...</td>\n",
              "      <td>Donald Trump</td>\n",
              "      <td>NONE</td>\n",
              "      <td>2. The tweet does NOT expresses opinion about ...</td>\n",
              "      <td>pos</td>\n",
              "    </tr>\n",
              "    <tr>\n",
              "      <th>2</th>\n",
              "      <td>@JeffYoung @ThePatriot143 I fully support full...</td>\n",
              "      <td>Donald Trump</td>\n",
              "      <td>NONE</td>\n",
              "      <td>2. The tweet does NOT expresses opinion about ...</td>\n",
              "      <td>pos</td>\n",
              "    </tr>\n",
              "    <tr>\n",
              "      <th>3</th>\n",
              "      <td>@ABC Stupid is as stupid does! Showedhis true ...</td>\n",
              "      <td>Donald Trump</td>\n",
              "      <td>AGAINST</td>\n",
              "      <td>1.  The tweet explicitly expresses opinion abo...</td>\n",
              "      <td>neg</td>\n",
              "    </tr>\n",
              "    <tr>\n",
              "      <th>4</th>\n",
              "      <td>@HouseGOP we now have one political party. The...</td>\n",
              "      <td>Donald Trump</td>\n",
              "      <td>NONE</td>\n",
              "      <td>2. The tweet does NOT expresses opinion about ...</td>\n",
              "      <td>neg</td>\n",
              "    </tr>\n",
              "    <tr>\n",
              "      <th>...</th>\n",
              "      <td>...</td>\n",
              "      <td>...</td>\n",
              "      <td>...</td>\n",
              "      <td>...</td>\n",
              "      <td>...</td>\n",
              "    </tr>\n",
              "    <tr>\n",
              "      <th>702</th>\n",
              "      <td>@realDonaldTrump we all want you as the next p...</td>\n",
              "      <td>Donald Trump</td>\n",
              "      <td>FAVOR</td>\n",
              "      <td>1.  The tweet explicitly expresses opinion abo...</td>\n",
              "      <td>pos</td>\n",
              "    </tr>\n",
              "    <tr>\n",
              "      <th>703</th>\n",
              "      <td>@RSherman_25 Join Twitter Trump brigade #oneth...</td>\n",
              "      <td>Donald Trump</td>\n",
              "      <td>FAVOR</td>\n",
              "      <td>1.  The tweet explicitly expresses opinion abo...</td>\n",
              "      <td>pos</td>\n",
              "    </tr>\n",
              "    <tr>\n",
              "      <th>704</th>\n",
              "      <td>@JoeyBats19 Join Twitter Trump brigade #onetho...</td>\n",
              "      <td>Donald Trump</td>\n",
              "      <td>FAVOR</td>\n",
              "      <td>1.  The tweet explicitly expresses opinion abo...</td>\n",
              "      <td>pos</td>\n",
              "    </tr>\n",
              "    <tr>\n",
              "      <th>705</th>\n",
              "      <td>Trump's outlandish statements is political str...</td>\n",
              "      <td>Donald Trump</td>\n",
              "      <td>AGAINST</td>\n",
              "      <td>1.  The tweet explicitly expresses opinion abo...</td>\n",
              "      <td>neg</td>\n",
              "    </tr>\n",
              "    <tr>\n",
              "      <th>706</th>\n",
              "      <td>@RMConservative @DagnyRed ,P.C. is out of cont...</td>\n",
              "      <td>Donald Trump</td>\n",
              "      <td>NONE</td>\n",
              "      <td>2. The tweet does NOT expresses opinion about ...</td>\n",
              "      <td>neg</td>\n",
              "    </tr>\n",
              "  </tbody>\n",
              "</table>\n",
              "<p>707 rows × 5 columns</p>\n",
              "</div>"
            ],
            "text/plain": [
              "                                                 Tweet        Target   Stance  \\\n",
              "0    @2014voteblue @ChrisJZullo blindly supporting ...  Donald Trump     NONE   \n",
              "1    @ThePimpernelX @Cameron_Gray @CalebHowe  Total...  Donald Trump     NONE   \n",
              "2    @JeffYoung @ThePatriot143 I fully support full...  Donald Trump     NONE   \n",
              "3    @ABC Stupid is as stupid does! Showedhis true ...  Donald Trump  AGAINST   \n",
              "4    @HouseGOP we now have one political party. The...  Donald Trump     NONE   \n",
              "..                                                 ...           ...      ...   \n",
              "702  @realDonaldTrump we all want you as the next p...  Donald Trump    FAVOR   \n",
              "703  @RSherman_25 Join Twitter Trump brigade #oneth...  Donald Trump    FAVOR   \n",
              "704  @JoeyBats19 Join Twitter Trump brigade #onetho...  Donald Trump    FAVOR   \n",
              "705  Trump's outlandish statements is political str...  Donald Trump  AGAINST   \n",
              "706  @RMConservative @DagnyRed ,P.C. is out of cont...  Donald Trump     NONE   \n",
              "\n",
              "                                       Opinion Towards Sentiment  \n",
              "0    2. The tweet does NOT expresses opinion about ...       neg  \n",
              "1    2. The tweet does NOT expresses opinion about ...       pos  \n",
              "2    2. The tweet does NOT expresses opinion about ...       pos  \n",
              "3    1.  The tweet explicitly expresses opinion abo...       neg  \n",
              "4    2. The tweet does NOT expresses opinion about ...       neg  \n",
              "..                                                 ...       ...  \n",
              "702  1.  The tweet explicitly expresses opinion abo...       pos  \n",
              "703  1.  The tweet explicitly expresses opinion abo...       pos  \n",
              "704  1.  The tweet explicitly expresses opinion abo...       pos  \n",
              "705  1.  The tweet explicitly expresses opinion abo...       neg  \n",
              "706  2. The tweet does NOT expresses opinion about ...       neg  \n",
              "\n",
              "[707 rows x 5 columns]"
            ]
          },
          "execution_count": 32,
          "metadata": {},
          "output_type": "execute_result"
        }
      ],
      "source": [
        "test_taskB"
      ]
    },
    {
      "cell_type": "code",
      "execution_count": 33,
      "metadata": {},
      "outputs": [],
      "source": [
        "test_taskB['opinion_key']=test_taskB['Opinion Towards'].apply(lambda x: x[0])"
      ]
    },
    {
      "cell_type": "code",
      "execution_count": 36,
      "metadata": {},
      "outputs": [],
      "source": [
        "test_taskB['predicted_stance'] = test_taskB.apply(lambda row: classify_stance_zero_shot(row['Tweet'], row['Target']), axis=1)"
      ]
    },
    {
      "cell_type": "code",
      "execution_count": 39,
      "metadata": {},
      "outputs": [
        {
          "name": "stderr",
          "output_type": "stream",
          "text": [
            "C:\\Users\\renzehao\\AppData\\Local\\Temp\\ipykernel_55904\\1401311131.py:1: FutureWarning: The default value of regex will change from True to False in a future version. In addition, single character regular expressions will *not* be treated as literal strings when regex=True.\n",
            "  test_taskB['predicted_stance']=test_taskB['predicted_stance'].str.replace('.','')\n"
          ]
        }
      ],
      "source": [
        "test_taskB['predicted_stance']=test_taskB['predicted_stance'].str.replace('.','')"
      ]
    },
    {
      "cell_type": "code",
      "execution_count": 43,
      "metadata": {},
      "outputs": [
        {
          "name": "stdout",
          "output_type": "stream",
          "text": [
            "      FAVOR   AGAINST      NONE       AVG\n",
            "0  0.771605  0.479419  0.726736  0.625512\n"
          ]
        },
        {
          "data": {
            "text/html": [
              "<div>\n",
              "<style scoped>\n",
              "    .dataframe tbody tr th:only-of-type {\n",
              "        vertical-align: middle;\n",
              "    }\n",
              "\n",
              "    .dataframe tbody tr th {\n",
              "        vertical-align: top;\n",
              "    }\n",
              "\n",
              "    .dataframe thead th {\n",
              "        text-align: right;\n",
              "    }\n",
              "</style>\n",
              "<table border=\"1\" class=\"dataframe\">\n",
              "  <thead>\n",
              "    <tr style=\"text-align: right;\">\n",
              "      <th></th>\n",
              "      <th>FAVOR</th>\n",
              "      <th>AGAINST</th>\n",
              "      <th>NONE</th>\n",
              "      <th>AVG</th>\n",
              "    </tr>\n",
              "  </thead>\n",
              "  <tbody>\n",
              "    <tr>\n",
              "      <th>0</th>\n",
              "      <td>0.771605</td>\n",
              "      <td>0.479419</td>\n",
              "      <td>0.726736</td>\n",
              "      <td>0.625512</td>\n",
              "    </tr>\n",
              "  </tbody>\n",
              "</table>\n",
              "</div>"
            ],
            "text/plain": [
              "      FAVOR   AGAINST      NONE       AVG\n",
              "0  0.771605  0.479419  0.726736  0.625512"
            ]
          },
          "execution_count": 43,
          "metadata": {},
          "output_type": "execute_result"
        }
      ],
      "source": [
        "get_f1(test_taskB)"
      ]
    },
    {
      "cell_type": "code",
      "execution_count": 44,
      "metadata": {},
      "outputs": [],
      "source": [
        "test_taskB.to_csv('gpttaskB.csv')"
      ]
    },
    {
      "cell_type": "code",
      "execution_count": 45,
      "metadata": {},
      "outputs": [
        {
          "name": "stdout",
          "output_type": "stream",
          "text": [
            "           Favor   Against      None   Average\n",
            "Opinion  0.59144  0.821192  0.044944  0.706316\n",
            "                Favor   Against      None   Average\n",
            "not_opinion  0.298701  0.090909  0.817164  0.194805\n"
          ]
        }
      ],
      "source": [
        "opinion_target=test_taskB[test_taskB['opinion_key']=='1'].reset_index(drop=True)\n",
        "not_opinion_target=test_taskB[test_taskB['opinion_key']=='2'].reset_index(drop=True)\n",
        "f1_opinion=f1_score(opinion_target['predicted_stance'],opinion_target['Stance'],average=None).reshape(1,-1)\n",
        "f1_opinion_df = pd.DataFrame(f1_opinion,columns=['Favor','Against','None'],index=['Opinion'])\n",
        "f1_opinion_df['Average']=(f1_opinion_df['Favor']+f1_opinion_df['Against'])/2\n",
        "f1_not_opinion=f1_score(not_opinion_target['predicted_stance'],not_opinion_target['Stance'],average=None).reshape(1,-1)\n",
        "f1_not_opinion_df = pd.DataFrame(f1_not_opinion,columns=['Favor','Against','None'],index=['not_opinion'])\n",
        "f1_not_opinion_df['Average']=(f1_not_opinion_df['Favor']+f1_not_opinion_df['Against'])/2\n",
        "print(f1_opinion_df)\n",
        "print(f1_not_opinion_df)"
      ]
    },
    {
      "cell_type": "code",
      "execution_count": 116,
      "metadata": {},
      "outputs": [
        {
          "data": {
            "text/html": [
              "<div>\n",
              "<style scoped>\n",
              "    .dataframe tbody tr th:only-of-type {\n",
              "        vertical-align: middle;\n",
              "    }\n",
              "\n",
              "    .dataframe tbody tr th {\n",
              "        vertical-align: top;\n",
              "    }\n",
              "\n",
              "    .dataframe thead th {\n",
              "        text-align: right;\n",
              "    }\n",
              "</style>\n",
              "<table border=\"1\" class=\"dataframe\">\n",
              "  <thead>\n",
              "    <tr style=\"text-align: right;\">\n",
              "      <th></th>\n",
              "      <th></th>\n",
              "      <th>Tweet</th>\n",
              "      <th>Target</th>\n",
              "      <th>Opinion Towards</th>\n",
              "      <th>Sentiment</th>\n",
              "      <th>predicted_stance</th>\n",
              "      <th>predicted_stance_1</th>\n",
              "    </tr>\n",
              "    <tr>\n",
              "      <th>opinion_key</th>\n",
              "      <th>Stance</th>\n",
              "      <th></th>\n",
              "      <th></th>\n",
              "      <th></th>\n",
              "      <th></th>\n",
              "      <th></th>\n",
              "      <th></th>\n",
              "    </tr>\n",
              "  </thead>\n",
              "  <tbody>\n",
              "    <tr>\n",
              "      <th rowspan=\"3\" valign=\"top\">1</th>\n",
              "      <th>AGAINST</th>\n",
              "      <td>176</td>\n",
              "      <td>176</td>\n",
              "      <td>176</td>\n",
              "      <td>176</td>\n",
              "      <td>176</td>\n",
              "      <td>176</td>\n",
              "    </tr>\n",
              "    <tr>\n",
              "      <th>FAVOR</th>\n",
              "      <td>145</td>\n",
              "      <td>145</td>\n",
              "      <td>145</td>\n",
              "      <td>145</td>\n",
              "      <td>145</td>\n",
              "      <td>145</td>\n",
              "    </tr>\n",
              "    <tr>\n",
              "      <th>NONE</th>\n",
              "      <td>3</td>\n",
              "      <td>3</td>\n",
              "      <td>3</td>\n",
              "      <td>3</td>\n",
              "      <td>3</td>\n",
              "      <td>3</td>\n",
              "    </tr>\n",
              "    <tr>\n",
              "      <th rowspan=\"3\" valign=\"top\">2</th>\n",
              "      <th>AGAINST</th>\n",
              "      <td>122</td>\n",
              "      <td>122</td>\n",
              "      <td>122</td>\n",
              "      <td>122</td>\n",
              "      <td>122</td>\n",
              "      <td>122</td>\n",
              "    </tr>\n",
              "    <tr>\n",
              "      <th>FAVOR</th>\n",
              "      <td>3</td>\n",
              "      <td>3</td>\n",
              "      <td>3</td>\n",
              "      <td>3</td>\n",
              "      <td>3</td>\n",
              "      <td>3</td>\n",
              "    </tr>\n",
              "    <tr>\n",
              "      <th>NONE</th>\n",
              "      <td>231</td>\n",
              "      <td>231</td>\n",
              "      <td>231</td>\n",
              "      <td>231</td>\n",
              "      <td>231</td>\n",
              "      <td>231</td>\n",
              "    </tr>\n",
              "    <tr>\n",
              "      <th rowspan=\"2\" valign=\"top\">3</th>\n",
              "      <th>AGAINST</th>\n",
              "      <td>1</td>\n",
              "      <td>1</td>\n",
              "      <td>1</td>\n",
              "      <td>1</td>\n",
              "      <td>1</td>\n",
              "      <td>1</td>\n",
              "    </tr>\n",
              "    <tr>\n",
              "      <th>NONE</th>\n",
              "      <td>26</td>\n",
              "      <td>26</td>\n",
              "      <td>26</td>\n",
              "      <td>26</td>\n",
              "      <td>26</td>\n",
              "      <td>26</td>\n",
              "    </tr>\n",
              "  </tbody>\n",
              "</table>\n",
              "</div>"
            ],
            "text/plain": [
              "                     Tweet  Target  Opinion Towards  Sentiment  \\\n",
              "opinion_key Stance                                               \n",
              "1           AGAINST    176     176              176        176   \n",
              "            FAVOR      145     145              145        145   \n",
              "            NONE         3       3                3          3   \n",
              "2           AGAINST    122     122              122        122   \n",
              "            FAVOR        3       3                3          3   \n",
              "            NONE       231     231              231        231   \n",
              "3           AGAINST      1       1                1          1   \n",
              "            NONE        26      26               26         26   \n",
              "\n",
              "                     predicted_stance  predicted_stance_1  \n",
              "opinion_key Stance                                         \n",
              "1           AGAINST               176                 176  \n",
              "            FAVOR                 145                 145  \n",
              "            NONE                    3                   3  \n",
              "2           AGAINST               122                 122  \n",
              "            FAVOR                   3                   3  \n",
              "            NONE                  231                 231  \n",
              "3           AGAINST                 1                   1  \n",
              "            NONE                   26                  26  "
            ]
          },
          "execution_count": 116,
          "metadata": {},
          "output_type": "execute_result"
        }
      ],
      "source": [
        "test_taskB.groupby(['opinion_key','Stance']).count()"
      ]
    }
  ],
  "metadata": {
    "colab": {
      "provenance": []
    },
    "kernelspec": {
      "display_name": "Python 3",
      "name": "python3"
    },
    "language_info": {
      "codemirror_mode": {
        "name": "ipython",
        "version": 3
      },
      "file_extension": ".py",
      "mimetype": "text/x-python",
      "name": "python",
      "nbconvert_exporter": "python",
      "pygments_lexer": "ipython3",
      "version": "3.10.9"
    }
  },
  "nbformat": 4,
  "nbformat_minor": 0
}
